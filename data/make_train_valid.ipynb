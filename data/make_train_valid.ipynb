{
 "cells": [
  {
   "cell_type": "code",
   "execution_count": null,
   "id": "9bb24dc2",
   "metadata": {},
   "outputs": [],
   "source": []
  },
  {
   "cell_type": "code",
   "execution_count": null,
   "id": "72d47161",
   "metadata": {},
   "outputs": [],
   "source": [
    "# DOWNLOAD TRAIN/VALIDATION DATA\n",
    "!cd train_data; kaggle datasets download radek1/otto-train-and-test-data-for-local-validation\n",
    "!cd train_data; unzip otto-train-and-test-data-for-local-validation.zip"
   ]
  },
  {
   "cell_type": "code",
   "execution_count": null,
   "id": "c618c830",
   "metadata": {},
   "outputs": [],
   "source": [
    "# DOWNLOAD COMPETITION DATA\n",
    "!cd infer_data; kaggle datasets download columbia2131/otto-chunk-data-inparquet-format\n",
    "!cd infer_data; unzip otto-chunk-data-inparquet-format.zip"
   ]
  },
  {
   "cell_type": "code",
   "execution_count": null,
   "id": "26c9338e",
   "metadata": {},
   "outputs": [],
   "source": [
    "# DOWNLOAD COMPETITION DATA\n",
    "!cd infer_data; kaggle datasets download radek1/otto-full-optimized-memory-footprint\n",
    "!cd infer_data; unzip otto-full-optimized-memory-footprint.zip"
   ]
  },
  {
   "cell_type": "code",
   "execution_count": 9,
   "id": "b2a42e76",
   "metadata": {},
   "outputs": [],
   "source": [
    "import pandas as pd, numpy as np"
   ]
  },
  {
   "cell_type": "code",
   "execution_count": 2,
   "id": "6159fddf",
   "metadata": {},
   "outputs": [],
   "source": [
    "# MY CODE USES AN EARLIER VERSION WHERE TS WAS 1000X\n",
    "df = pd.read_parquet('infer_data/train.parquet')\n",
    "df.ts = df.ts.astype('int64') * 1000\n",
    "df.to_parquet('infer_data/train.parquet',index=False)"
   ]
  },
  {
   "cell_type": "code",
   "execution_count": null,
   "id": "558a4ac5",
   "metadata": {},
   "outputs": [],
   "source": [
    "# MY CODE USES AN EARLIER VERSION WHERE TS WAS 1000X\n",
    "df = pd.read_parquet('infer_data/test.parquet')\n",
    "df.ts = df.ts.astype('int64') * 1000\n",
    "df.to_parquet('infer_data/test.parquet',index=False)"
   ]
  },
  {
   "cell_type": "code",
   "execution_count": null,
   "id": "928a06eb",
   "metadata": {},
   "outputs": [],
   "source": []
  },
  {
   "cell_type": "code",
   "execution_count": 2,
   "id": "adbd2347",
   "metadata": {},
   "outputs": [
    {
     "name": "stdout",
     "output_type": "stream",
     "text": [
      "(163955180, 4)\n"
     ]
    },
    {
     "data": {
      "text/html": [
       "<div>\n",
       "<style scoped>\n",
       "    .dataframe tbody tr th:only-of-type {\n",
       "        vertical-align: middle;\n",
       "    }\n",
       "\n",
       "    .dataframe tbody tr th {\n",
       "        vertical-align: top;\n",
       "    }\n",
       "\n",
       "    .dataframe thead th {\n",
       "        text-align: right;\n",
       "    }\n",
       "</style>\n",
       "<table border=\"1\" class=\"dataframe\">\n",
       "  <thead>\n",
       "    <tr style=\"text-align: right;\">\n",
       "      <th></th>\n",
       "      <th>session</th>\n",
       "      <th>aid</th>\n",
       "      <th>ts</th>\n",
       "      <th>type</th>\n",
       "    </tr>\n",
       "  </thead>\n",
       "  <tbody>\n",
       "    <tr>\n",
       "      <th>0</th>\n",
       "      <td>0</td>\n",
       "      <td>1517085</td>\n",
       "      <td>1659304800</td>\n",
       "      <td>0</td>\n",
       "    </tr>\n",
       "    <tr>\n",
       "      <th>1</th>\n",
       "      <td>0</td>\n",
       "      <td>1563459</td>\n",
       "      <td>1659304904</td>\n",
       "      <td>0</td>\n",
       "    </tr>\n",
       "    <tr>\n",
       "      <th>2</th>\n",
       "      <td>0</td>\n",
       "      <td>1309446</td>\n",
       "      <td>1659367439</td>\n",
       "      <td>0</td>\n",
       "    </tr>\n",
       "    <tr>\n",
       "      <th>3</th>\n",
       "      <td>0</td>\n",
       "      <td>16246</td>\n",
       "      <td>1659367719</td>\n",
       "      <td>0</td>\n",
       "    </tr>\n",
       "    <tr>\n",
       "      <th>4</th>\n",
       "      <td>0</td>\n",
       "      <td>1781822</td>\n",
       "      <td>1659367871</td>\n",
       "      <td>0</td>\n",
       "    </tr>\n",
       "  </tbody>\n",
       "</table>\n",
       "</div>"
      ],
      "text/plain": [
       "   session      aid          ts  type\n",
       "0        0  1517085  1659304800     0\n",
       "1        0  1563459  1659304904     0\n",
       "2        0  1309446  1659367439     0\n",
       "3        0    16246  1659367719     0\n",
       "4        0  1781822  1659367871     0"
      ]
     },
     "execution_count": 2,
     "metadata": {},
     "output_type": "execute_result"
    }
   ],
   "source": [
    "df = pd.read_parquet('train_data/train.parquet')\n",
    "print( df.shape )\n",
    "df.head()"
   ]
  },
  {
   "cell_type": "code",
   "execution_count": 7,
   "id": "6f7e2d15",
   "metadata": {},
   "outputs": [
    {
     "data": {
      "text/plain": [
       "11098528"
      ]
     },
     "execution_count": 7,
     "metadata": {},
     "output_type": "execute_result"
    }
   ],
   "source": [
    "user1 = df.session.unique()\n",
    "len(user1)"
   ]
  },
  {
   "cell_type": "code",
   "execution_count": 18,
   "id": "5d22a208",
   "metadata": {},
   "outputs": [
    {
     "data": {
      "text/plain": [
       "110986"
      ]
     },
     "execution_count": 18,
     "metadata": {},
     "output_type": "execute_result"
    }
   ],
   "source": [
    "parts = 100\n",
    "chunk = int( np.ceil( len(user1)/parts ) )\n",
    "chunk"
   ]
  },
  {
   "cell_type": "code",
   "execution_count": 16,
   "id": "2b38e37f",
   "metadata": {},
   "outputs": [
    {
     "data": {
      "text/plain": [
       "'001'"
      ]
     },
     "execution_count": 16,
     "metadata": {},
     "output_type": "execute_result"
    }
   ],
   "source": [
    "x = 1\n",
    "f'{x:03d}'"
   ]
  },
  {
   "cell_type": "code",
   "execution_count": 19,
   "id": "cacf1d48",
   "metadata": {},
   "outputs": [
    {
     "name": "stdout",
     "output_type": "stream",
     "text": [
      "0 , 1 , 2 , 3 , 4 , 5 , 6 , 7 , 8 , 9 , 10 , 11 , 12 , 13 , 14 , 15 , 16 , 17 , 18 , 19 , 20 , 21 , 22 , 23 , 24 , 25 , 26 , 27 , 28 , 29 , 30 , 31 , 32 , 33 , 34 , 35 , 36 , 37 , 38 , 39 , 40 , 41 , 42 , 43 , 44 , 45 , 46 , 47 , 48 , 49 , 50 , 51 , 52 , 53 , 54 , 55 , 56 , 57 , 58 , 59 , 60 , 61 , 62 , 63 , 64 , 65 , 66 , 67 , 68 , 69 , 70 , 71 , 72 , 73 , 74 , 75 , 76 , 77 , 78 , 79 , 80 , 81 , 82 , 83 , 84 , 85 , 86 , 87 , 88 , 89 , 90 , 91 , 92 , 93 , 94 , 95 , 96 , 97 , 98 , 99 , "
     ]
    }
   ],
   "source": [
    "for k in range(parts):\n",
    "    u = user1[k*chunk:(k+1)*chunk]\n",
    "    tmp = df.loc[df.session.isin(u)]\n",
    "    tmp = tmp.sort_values(['session','ts'])\n",
    "    tmp.to_parquet(f'train_data/train_parquet/{k:03d}.parquet',index=False)\n",
    "    print(k,', ',end='')"
   ]
  },
  {
   "cell_type": "code",
   "execution_count": 20,
   "id": "2f200075",
   "metadata": {},
   "outputs": [
    {
     "name": "stdout",
     "output_type": "stream",
     "text": [
      "(7683577, 4)\n"
     ]
    },
    {
     "data": {
      "text/html": [
       "<div>\n",
       "<style scoped>\n",
       "    .dataframe tbody tr th:only-of-type {\n",
       "        vertical-align: middle;\n",
       "    }\n",
       "\n",
       "    .dataframe tbody tr th {\n",
       "        vertical-align: top;\n",
       "    }\n",
       "\n",
       "    .dataframe thead th {\n",
       "        text-align: right;\n",
       "    }\n",
       "</style>\n",
       "<table border=\"1\" class=\"dataframe\">\n",
       "  <thead>\n",
       "    <tr style=\"text-align: right;\">\n",
       "      <th></th>\n",
       "      <th>session</th>\n",
       "      <th>aid</th>\n",
       "      <th>ts</th>\n",
       "      <th>type</th>\n",
       "    </tr>\n",
       "  </thead>\n",
       "  <tbody>\n",
       "    <tr>\n",
       "      <th>0</th>\n",
       "      <td>11098528</td>\n",
       "      <td>11830</td>\n",
       "      <td>1661119200</td>\n",
       "      <td>0</td>\n",
       "    </tr>\n",
       "    <tr>\n",
       "      <th>1</th>\n",
       "      <td>11098529</td>\n",
       "      <td>1105029</td>\n",
       "      <td>1661119200</td>\n",
       "      <td>0</td>\n",
       "    </tr>\n",
       "    <tr>\n",
       "      <th>2</th>\n",
       "      <td>11098530</td>\n",
       "      <td>264500</td>\n",
       "      <td>1661119200</td>\n",
       "      <td>0</td>\n",
       "    </tr>\n",
       "    <tr>\n",
       "      <th>3</th>\n",
       "      <td>11098530</td>\n",
       "      <td>264500</td>\n",
       "      <td>1661119288</td>\n",
       "      <td>0</td>\n",
       "    </tr>\n",
       "    <tr>\n",
       "      <th>4</th>\n",
       "      <td>11098530</td>\n",
       "      <td>409236</td>\n",
       "      <td>1661119369</td>\n",
       "      <td>0</td>\n",
       "    </tr>\n",
       "  </tbody>\n",
       "</table>\n",
       "</div>"
      ],
      "text/plain": [
       "    session      aid          ts  type\n",
       "0  11098528    11830  1661119200     0\n",
       "1  11098529  1105029  1661119200     0\n",
       "2  11098530   264500  1661119200     0\n",
       "3  11098530   264500  1661119288     0\n",
       "4  11098530   409236  1661119369     0"
      ]
     },
     "execution_count": 20,
     "metadata": {},
     "output_type": "execute_result"
    }
   ],
   "source": [
    "df2 = pd.read_parquet('train_data/test.parquet')\n",
    "print( df2.shape )\n",
    "df2.head()"
   ]
  },
  {
   "cell_type": "code",
   "execution_count": 21,
   "id": "bb12c9c4",
   "metadata": {},
   "outputs": [
    {
     "data": {
      "text/plain": [
       "1801251"
      ]
     },
     "execution_count": 21,
     "metadata": {},
     "output_type": "execute_result"
    }
   ],
   "source": [
    "df2.session.nunique()"
   ]
  },
  {
   "cell_type": "code",
   "execution_count": 22,
   "id": "3a107d4c",
   "metadata": {},
   "outputs": [
    {
     "data": {
      "text/plain": [
       "1801251"
      ]
     },
     "execution_count": 22,
     "metadata": {},
     "output_type": "execute_result"
    }
   ],
   "source": [
    "user2 = df2.session.unique()\n",
    "len(user2)"
   ]
  },
  {
   "cell_type": "code",
   "execution_count": 23,
   "id": "88db2378",
   "metadata": {},
   "outputs": [
    {
     "data": {
      "text/plain": [
       "90063"
      ]
     },
     "execution_count": 23,
     "metadata": {},
     "output_type": "execute_result"
    }
   ],
   "source": [
    "parts2 = 20\n",
    "chunk2 = int( np.ceil( len(user2)/parts2 ) )\n",
    "chunk2"
   ]
  },
  {
   "cell_type": "code",
   "execution_count": 24,
   "id": "50228663",
   "metadata": {},
   "outputs": [
    {
     "name": "stdout",
     "output_type": "stream",
     "text": [
      "0 , 1 , 2 , 3 , 4 , 5 , 6 , 7 , 8 , 9 , 10 , 11 , 12 , 13 , 14 , 15 , 16 , 17 , 18 , 19 , "
     ]
    }
   ],
   "source": [
    "for k in range(parts2):\n",
    "    u = user2[k*chunk2:(k+1)*chunk2]\n",
    "    tmp = df2.loc[df2.session.isin(u)]\n",
    "    tmp = tmp.sort_values(['session','ts'])\n",
    "    tmp.to_parquet(f'train_data/test_parquet/{k:03d}.parquet',index=False)\n",
    "    print(k,', ',end='')"
   ]
  }
 ],
 "metadata": {
  "kernelspec": {
   "display_name": "Python 3 (ipykernel)",
   "language": "python",
   "name": "python3"
  },
  "language_info": {
   "codemirror_mode": {
    "name": "ipython",
    "version": 3
   },
   "file_extension": ".py",
   "mimetype": "text/x-python",
   "name": "python",
   "nbconvert_exporter": "python",
   "pygments_lexer": "ipython3",
   "version": "3.8.13"
  }
 },
 "nbformat": 4,
 "nbformat_minor": 5
}
